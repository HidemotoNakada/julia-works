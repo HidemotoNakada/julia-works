{
 "cells": [
  {
   "cell_type": "code",
   "execution_count": null,
   "metadata": {},
   "outputs": [],
   "source": []
  },
  {
   "cell_type": "code",
   "execution_count": 2,
   "metadata": {},
   "outputs": [
    {
     "data": {
      "text/plain": [
       "update (generic function with 3 methods)"
      ]
     },
     "metadata": {},
     "output_type": "display_data"
    }
   ],
   "source": [
    "using Distributions\n",
    "NUM_DIZITIZED = 8\n",
    "GAMMA = 0.99  # 時間割引率\n",
    "ETA = 0.5  # 学習係数\n",
    "\n",
    "spaces = [\n",
    "    collect(range(-2.4, 2.4, length=7)),\n",
    "    collect(range(-3.0, 3.0, length=7)),\n",
    "    collect(range(-0.5, 0.5, length=7)),\n",
    "    collect(range(-2.0, 2.0, length=7)),\n",
    "]\n",
    "function digitize_state(observation)\n",
    "    return [searchsortedfirst(spaces[i], observation[i]) for i in 1:4]\n",
    "end\n",
    "\n",
    "struct Agent\n",
    "    num_actions::Int\n",
    "    q_table::Array{Float32, 5}\n",
    "    Agent(num_actions::Int) = new(num_actions, \n",
    "        zeros(Float32, (num_actions, NUM_DIZITIZED, NUM_DIZITIZED, NUM_DIZITIZED, NUM_DIZITIZED)))\n",
    "    #        rand(Uniform(-1, 1), (NUM_DIZITIZED, NUM_DIZITIZED, NUM_DIZITIZED, NUM_DIZITIZED, num_actions)))\n",
    "end    \n",
    "\n",
    "function get_action(agent::Agent, d_observation::Vector{Int}, step::Int)\n",
    "    epsilon = 0.5 * (1 / (step + 1))\n",
    "    if epsilon <= rand()\n",
    "        return argmax(agent.q_table[:, d_observation...])\n",
    "    else\n",
    "        return rand(1:agent.num_actions)\n",
    "    end\n",
    "end\n",
    "\n",
    "function update(agent::Agent, d_observation::Vector{Int}, action::Int, reward, d_observation_next::Vector{Int})\n",
    "    Max_Q_next = maximum(agent.q_table[:, d_observation_next...])\n",
    "    agent.q_table[action, d_observation...] = agent.q_table[action, d_observation...] + ETA * (reward + GAMMA * Max_Q_next - agent.q_table[action, d_observation...])\n",
    "end"
   ]
  },
  {
   "cell_type": "code",
   "execution_count": 1,
   "metadata": {},
   "outputs": [
    {
     "data": {
      "text/plain": [
       "@QL (macro with 1 method)"
      ]
     },
     "metadata": {},
     "output_type": "display_data"
    }
   ],
   "source": [
    "include(\"ql_framework.jl\")\n",
    "\n"
   ]
  },
  {
   "cell_type": "code",
   "execution_count": null,
   "metadata": {},
   "outputs": [],
   "source": []
  },
  {
   "cell_type": "code",
   "execution_count": 13,
   "metadata": {},
   "outputs": [
    {
     "name": "stdout",
     "output_type": "stream",
     "text": [
      ".\n"
     ]
    },
    {
     "name": "stdout",
     "output_type": "stream",
     "text": [
      ".\n",
      ".\n",
      ".\n",
      ".\n",
      ".\n",
      ".\n",
      ".\n",
      ".\n",
      ".\n"
     ]
    },
    {
     "data": {
      "text/plain": [
       "1-element Vector{Vector{Any}}:\n",
       " [8, 13, 8, 8, 9, 9, 9, 9, 9, 9]"
      ]
     },
     "metadata": {},
     "output_type": "display_data"
    }
   ],
   "source": [
    "using PyCall\n",
    "gym = pyimport(\"gymnasium\")\n",
    "#fw = QlFramework(env, agent, digitize_state)\n",
    "fw = @QL(1, gym.make(\"CartPole-v1\"), Agent(2), digitize_state)\n",
    "\n",
    "\n",
    "step_list = run!(fw)"
   ]
  },
  {
   "cell_type": "code",
   "execution_count": 15,
   "metadata": {},
   "outputs": [
    {
     "name": "stderr",
     "output_type": "stream",
     "text": [
      "WARNING: replacing module MyActor.\n",
      "WARNING: using MyActor.@startat in module Main conflicts with an existing identifier.\n",
      "WARNING: using MyActor.ActorRef in module Main conflicts with an existing identifier.\n",
      "WARNING: using MyActor.callOn in module Main conflicts with an existing identifier.\n",
      "WARNING: using MyActor.Actor in module Main conflicts with an existing identifier.\n",
      "WARNING: using MyActor.@remote in module Main conflicts with an existing identifier.\n"
     ]
    },
    {
     "data": {
      "text/plain": [
       "1-element Vector{Vector{Any}}:\n",
       " [9, 10, 8, 8, 9, 10, 9, 9, 8, 9  …  500, 500, 500, 500, 500, 211, 202, 202, 202, 202]"
      ]
     },
     "metadata": {},
     "output_type": "display_data"
    }
   ],
   "source": [
    "include(\"ql_framework.jl\")\n",
    "include(\"cart_pole_agent.jl\")\n",
    "\n",
    "gym = pyimport(\"gymnasium\")\n",
    "#fw = QlFramework(env, agent, digitize_state)\n",
    "fw = @QL(1, gym.make(\"CartPole-v1\"), Agent(2), digitize_state)\n",
    "\n",
    "step_list = run!(fw)"
   ]
  },
  {
   "cell_type": "code",
   "execution_count": null,
   "metadata": {},
   "outputs": [],
   "source": [
    "using Plots\n",
    "step_list"
   ]
  },
  {
   "cell_type": "code",
   "execution_count": null,
   "metadata": {},
   "outputs": [],
   "source": [
    "plot(step_list, legend=false, xlabel=\"episode\", ylabel=\"step\")"
   ]
  },
  {
   "cell_type": "code",
   "execution_count": 3,
   "metadata": {},
   "outputs": [],
   "source": [
    "include(\"MyActor3.jl\")\n",
    "using .MyActor"
   ]
  },
  {
   "cell_type": "code",
   "execution_count": 4,
   "metadata": {},
   "outputs": [
    {
     "data": {
      "text/plain": [
       "add (generic function with 2 methods)"
      ]
     },
     "metadata": {},
     "output_type": "display_data"
    }
   ],
   "source": [
    "mutable struct Counter <: Actor\n",
    "    count::Int\n",
    "end\n",
    "\n",
    "@remote add(c::Counter, x::Int) = c.count += x\n",
    "\n",
    "\n",
    "\n",
    "\n",
    "\n"
   ]
  },
  {
   "cell_type": "code",
   "execution_count": 5,
   "metadata": {},
   "outputs": [
    {
     "data": {
      "text/plain": [
       "ActorRef(Distributed.RemoteChannel{Channel{Any}}(1, 1, 1), 1)"
      ]
     },
     "metadata": {},
     "output_type": "display_data"
    }
   ],
   "source": [
    "c = @startat 1 Counter(0)"
   ]
  },
  {
   "cell_type": "code",
   "execution_count": 9,
   "metadata": {},
   "outputs": [
    {
     "data": {
      "text/plain": [
       "4"
      ]
     },
     "metadata": {},
     "output_type": "display_data"
    }
   ],
   "source": [
    "fetch(add(c,1))"
   ]
  },
  {
   "cell_type": "code",
   "execution_count": 19,
   "metadata": {},
   "outputs": [
    {
     "data": {
      "text/plain": [
       "(2,)"
      ]
     },
     "metadata": {},
     "output_type": "display_data"
    }
   ],
   "source": [
    "size([[],[]])\n"
   ]
  },
  {
   "cell_type": "code",
   "execution_count": null,
   "metadata": {},
   "outputs": [],
   "source": []
  }
 ],
 "metadata": {
  "kernelspec": {
   "display_name": "Julia 1.8.5",
   "language": "julia",
   "name": "julia-1.8"
  },
  "language_info": {
   "file_extension": ".jl",
   "mimetype": "application/julia",
   "name": "julia",
   "version": "1.8.5"
  },
  "orig_nbformat": 4
 },
 "nbformat": 4,
 "nbformat_minor": 2
}
